{
  "nbformat": 4,
  "nbformat_minor": 0,
  "metadata": {
    "colab": {
      "provenance": []
    },
    "kernelspec": {
      "name": "python3",
      "display_name": "Python 3"
    },
    "language_info": {
      "name": "python"
    }
  },
  "cells": [
    {
      "cell_type": "code",
      "execution_count": 1,
      "metadata": {
        "colab": {
          "base_uri": "https://localhost:8080/"
        },
        "id": "rPx_z-LGYB1s",
        "outputId": "47b33d18-c27b-4a86-dc99-c6c730a40ce3"
      },
      "outputs": [
        {
          "output_type": "stream",
          "name": "stdout",
          "text": [
            "Requirement already satisfied: pyspark in /usr/local/lib/python3.11/dist-packages (3.5.4)\n",
            "Requirement already satisfied: py4j==0.10.9.7 in /usr/local/lib/python3.11/dist-packages (from pyspark) (0.10.9.7)\n"
          ]
        }
      ],
      "source": [
        "!pip install pyspark"
      ]
    },
    {
      "cell_type": "markdown",
      "source": [
        "## Task 1 (Analysis)"
      ],
      "metadata": {
        "id": "f42iYmOfgYa4"
      }
    },
    {
      "cell_type": "markdown",
      "source": [
        "#### Import libraries"
      ],
      "metadata": {
        "id": "P8QRxqW366mz"
      }
    },
    {
      "cell_type": "code",
      "source": [
        "from pyspark import SparkContext\n",
        "from datetime import datetime\n",
        "from google.colab import drive\n",
        "drive.mount('/content/drive')"
      ],
      "metadata": {
        "id": "b8fKx_V_YiMn",
        "colab": {
          "base_uri": "https://localhost:8080/"
        },
        "outputId": "18f56b6a-119d-4f90-b453-61c365c31e48"
      },
      "execution_count": 1,
      "outputs": [
        {
          "output_type": "stream",
          "name": "stdout",
          "text": [
            "Drive already mounted at /content/drive; to attempt to forcibly remount, call drive.mount(\"/content/drive\", force_remount=True).\n"
          ]
        }
      ]
    },
    {
      "cell_type": "markdown",
      "source": [
        "####  Creating a SparkContext in Apache Spark"
      ],
      "metadata": {
        "id": "Hec3wPFY8U-c"
      }
    },
    {
      "cell_type": "code",
      "source": [
        "sc=SparkContext(master=\"local\")"
      ],
      "metadata": {
        "id": "VF9YAd_RY-Xv"
      },
      "execution_count": 2,
      "outputs": []
    },
    {
      "cell_type": "markdown",
      "source": [
        "**Trip Columns**"
      ],
      "metadata": {
        "id": "Wl66nIfloBoe"
      }
    },
    {
      "cell_type": "markdown",
      "source": [
        "1. **Departure Date and Time**\n",
        "2. **Departure Airport**\n",
        "3. **Departure Airport Code**\n",
        "4. **Arrival Airport**\n",
        "5. **Arrival Airport Code**\n",
        "6. **Arrival Date and Time**\n",
        "7. **Airline**\n",
        "8. **Distance (in km)**\n",
        "9. **Aircraft Model**\n",
        "10. **Total Seats**\n",
        "11. **Occupied Seats**\n"
      ],
      "metadata": {
        "id": "O2Nr0GOOnerY"
      }
    },
    {
      "cell_type": "markdown",
      "source": [
        "#### Loading a Text File into an RDD in Apache Spark"
      ],
      "metadata": {
        "id": "cIoPIzZ18b0m"
      }
    },
    {
      "cell_type": "code",
      "source": [
        "rdd_data=sc.textFile(\"/content/drive/My Drive/Colab Notebooks/Spark/trip.txt\",3)"
      ],
      "metadata": {
        "id": "O8YWmebgYKI-"
      },
      "execution_count": 3,
      "outputs": []
    },
    {
      "cell_type": "code",
      "source": [
        "rdd_data.count()"
      ],
      "metadata": {
        "colab": {
          "base_uri": "https://localhost:8080/"
        },
        "id": "fFZoAzNV1Kwj",
        "outputId": "f2e55ac8-bc4f-4542-8725-745cae768976"
      },
      "execution_count": 4,
      "outputs": [
        {
          "output_type": "execute_result",
          "data": {
            "text/plain": [
              "1000000"
            ]
          },
          "metadata": {},
          "execution_count": 4
        }
      ]
    },
    {
      "cell_type": "markdown",
      "source": [
        "#### Print 2 row from data"
      ],
      "metadata": {
        "id": "9de4t-fC8i-m"
      }
    },
    {
      "cell_type": "code",
      "source": [
        "rdd_data.take(2)"
      ],
      "metadata": {
        "colab": {
          "base_uri": "https://localhost:8080/"
        },
        "id": "DdA5rx1NYfqX",
        "outputId": "ebd90be3-4097-4783-f345-5df52a77e462"
      },
      "execution_count": 5,
      "outputs": [
        {
          "output_type": "execute_result",
          "data": {
            "text/plain": [
              "[\"2024-05-07 12:16:35,O'Hare International Airport,ORD,Suvarnabhumi Airport,BKK,2024-05-08 03:34:35,Air France,13778Km,Airbus A319,150,140\",\n",
              " '2024-04-15 07:24:08,Suvarnabhumi Airport,BKK,Sydney Kingsford-Smith Airport,SYD,2024-04-15 15:45:08,Emirates,7522Km,Boeing 737-700,148,146']"
            ]
          },
          "metadata": {},
          "execution_count": 5
        }
      ]
    },
    {
      "cell_type": "markdown",
      "source": [
        "#### Transforming an RDD: Splitting Lines into Lists"
      ],
      "metadata": {
        "id": "9h1YX0Xw8s6i"
      }
    },
    {
      "cell_type": "code",
      "source": [
        "rdd_1=rdd_data.map(lambda x:x.split(\",\"))"
      ],
      "metadata": {
        "id": "1DG4aoqIZEB6"
      },
      "execution_count": 6,
      "outputs": []
    },
    {
      "cell_type": "code",
      "source": [
        "rdd_1.take(2)"
      ],
      "metadata": {
        "colab": {
          "base_uri": "https://localhost:8080/"
        },
        "id": "GrC9QmZrIpow",
        "outputId": "dcde4a3f-f418-4350-bb99-f3ea1c49bd3a"
      },
      "execution_count": 7,
      "outputs": [
        {
          "output_type": "execute_result",
          "data": {
            "text/plain": [
              "[['2024-05-07 12:16:35',\n",
              "  \"O'Hare International Airport\",\n",
              "  'ORD',\n",
              "  'Suvarnabhumi Airport',\n",
              "  'BKK',\n",
              "  '2024-05-08 03:34:35',\n",
              "  'Air France',\n",
              "  '13778Km',\n",
              "  'Airbus A319',\n",
              "  '150',\n",
              "  '140'],\n",
              " ['2024-04-15 07:24:08',\n",
              "  'Suvarnabhumi Airport',\n",
              "  'BKK',\n",
              "  'Sydney Kingsford-Smith Airport',\n",
              "  'SYD',\n",
              "  '2024-04-15 15:45:08',\n",
              "  'Emirates',\n",
              "  '7522Km',\n",
              "  'Boeing 737-700',\n",
              "  '148',\n",
              "  '146']]"
            ]
          },
          "metadata": {},
          "execution_count": 7
        }
      ]
    },
    {
      "cell_type": "markdown",
      "source": [
        "### Find the number of flights per month that land at \"Amsterdam Airport Schiphol\" in 2024. Print the results."
      ],
      "metadata": {
        "id": "oMymasstlmTV"
      }
    },
    {
      "cell_type": "code",
      "source": [
        "rdd_Amsterdam_1=rdd_1.filter(lambda x: x[3]==\"Amsterdam Airport Schiphol\"and datetime.strptime(x[5], '%Y-%m-%d %H:%M:%S').year == 2024)"
      ],
      "metadata": {
        "id": "aLTuGJq0Jdju"
      },
      "execution_count": 8,
      "outputs": []
    },
    {
      "cell_type": "code",
      "source": [
        "rdd_Amsterdam_1.take(3)"
      ],
      "metadata": {
        "colab": {
          "base_uri": "https://localhost:8080/"
        },
        "id": "assAQ8e-KASh",
        "outputId": "672da9cc-58c8-45bb-d84b-5636a2e7c733"
      },
      "execution_count": 9,
      "outputs": [
        {
          "output_type": "execute_result",
          "data": {
            "text/plain": [
              "[['2024-01-01 22:25:52',\n",
              "  'John F. Kennedy International Airport',\n",
              "  'JFK',\n",
              "  'Amsterdam Airport Schiphol',\n",
              "  'AMS',\n",
              "  '2024-01-02 04:55:52',\n",
              "  'American Airlines',\n",
              "  '5854Km',\n",
              "  'Embraer ERJ170',\n",
              "  '76',\n",
              "  '76'],\n",
              " ['2024-01-27 19:21:43',\n",
              "  'Seoul Incheon International Airport',\n",
              "  'ICN',\n",
              "  'Amsterdam Airport Schiphol',\n",
              "  'AMS',\n",
              "  '2024-01-28 04:51:43',\n",
              "  'China Southern Airlines',\n",
              "  '8561Km',\n",
              "  'Airbus A321',\n",
              "  '210',\n",
              "  '210'],\n",
              " ['2024-04-11 13:51:38',\n",
              "  'Sao Paulo-Guarulhos International Airport',\n",
              "  'GRU',\n",
              "  'Amsterdam Airport Schiphol',\n",
              "  'AMS',\n",
              "  '2024-04-12 00:43:38',\n",
              "  'Emirates',\n",
              "  '9785Km',\n",
              "  'Boeing 737-700',\n",
              "  '148',\n",
              "  '147']]"
            ]
          },
          "metadata": {},
          "execution_count": 9
        }
      ]
    },
    {
      "cell_type": "code",
      "source": [
        "rdd_Amsterdam_2=rdd_Amsterdam_1.map(lambda x:(x[3],1))"
      ],
      "metadata": {
        "id": "FpFEWSNTKEiP"
      },
      "execution_count": 10,
      "outputs": []
    },
    {
      "cell_type": "code",
      "source": [
        "rdd_Amsterdam_2.reduceByKey(lambda x,y:x+y).collect()"
      ],
      "metadata": {
        "colab": {
          "base_uri": "https://localhost:8080/"
        },
        "id": "TkRDCM0qH9BR",
        "outputId": "369d90eb-144d-4c49-96b4-f94e548fffc4"
      },
      "execution_count": 11,
      "outputs": [
        {
          "output_type": "execute_result",
          "data": {
            "text/plain": [
              "[('Amsterdam Airport Schiphol', 33263)]"
            ]
          },
          "metadata": {},
          "execution_count": 11
        }
      ]
    },
    {
      "cell_type": "markdown",
      "source": [
        " ### Find the flights departing from “Tokyo Haneda Airport” between 09:00 and 18:00. Store the results in a file."
      ],
      "metadata": {
        "id": "belOGuahV7n-"
      }
    },
    {
      "cell_type": "code",
      "source": [
        "filtered_flights = rdd_1.filter(lambda x: x[1] == \"Tokyo Haneda Airport\" )"
      ],
      "metadata": {
        "id": "1lQVDM-IKq7q"
      },
      "execution_count": 12,
      "outputs": []
    },
    {
      "cell_type": "code",
      "source": [
        "filtered_flights_2 = filtered_flights.filter(lambda x: 9 <= datetime.strptime(x[0], '%Y-%m-%d %H:%M:%S').hour <= 18)\n"
      ],
      "metadata": {
        "id": "NYFZDn7KNymI"
      },
      "execution_count": 13,
      "outputs": []
    },
    {
      "cell_type": "code",
      "source": [
        "filtered_flights_2.take(3)"
      ],
      "metadata": {
        "id": "MYwWm3c9SM_v",
        "colab": {
          "base_uri": "https://localhost:8080/"
        },
        "outputId": "391a7cf9-1152-4ac5-c889-b83f5a255ca1"
      },
      "execution_count": 14,
      "outputs": [
        {
          "output_type": "execute_result",
          "data": {
            "text/plain": [
              "[['2024-05-09 13:12:08',\n",
              "  'Tokyo Haneda Airport',\n",
              "  'HND',\n",
              "  'John F. Kennedy International Airport',\n",
              "  'JFK',\n",
              "  '2024-05-10 01:17:08',\n",
              "  'American Airlines',\n",
              "  '10887Km',\n",
              "  'Airbus A321',\n",
              "  '210',\n",
              "  '200'],\n",
              " ['2024-01-11 17:41:07',\n",
              "  'Tokyo Haneda Airport',\n",
              "  'HND',\n",
              "  'Los Angeles International Airport',\n",
              "  'LAX',\n",
              "  '2024-01-12 03:29:07',\n",
              "  'Air France',\n",
              "  '8822Km',\n",
              "  'Boeing 737-700',\n",
              "  '148',\n",
              "  '142'],\n",
              " ['2024-03-25 16:54:25',\n",
              "  'Tokyo Haneda Airport',\n",
              "  'HND',\n",
              "  'Los Angeles International Airport',\n",
              "  'LAX',\n",
              "  '2024-03-26 02:42:25',\n",
              "  'American Airlines',\n",
              "  '8822Km',\n",
              "  'Boeing 737-700',\n",
              "  '148',\n",
              "  '144']]"
            ]
          },
          "metadata": {},
          "execution_count": 14
        }
      ]
    },
    {
      "cell_type": "code",
      "source": [
        "filtered_flights_2.saveAsTextFile(\"/content/drive/My Drive/flights_from_haneda_between_9_to_18.txt\")"
      ],
      "metadata": {
        "id": "cR9HF24uWYQK"
      },
      "execution_count": 15,
      "outputs": []
    },
    {
      "cell_type": "markdown",
      "source": [
        "### Find all “American Airlines” flights that depart from \"Seoul Incheon International Airport\" and store the results in a file."
      ],
      "metadata": {
        "id": "1wl0vXr1YacL"
      }
    },
    {
      "cell_type": "markdown",
      "source": [
        "#### Filtering an RDD: Selecting Rows for \"American Airlines\""
      ],
      "metadata": {
        "id": "YZ73UpA79TLr"
      }
    },
    {
      "cell_type": "code",
      "source": [
        "American_Airlines_1=rdd_1.filter(lambda x:x[6]=='American Airlines')"
      ],
      "metadata": {
        "id": "qZKDp4zkQ5Rb"
      },
      "execution_count": 16,
      "outputs": []
    },
    {
      "cell_type": "code",
      "source": [
        "American_Airlines_1.take(3)"
      ],
      "metadata": {
        "colab": {
          "base_uri": "https://localhost:8080/"
        },
        "id": "WBPfq0JKTAmJ",
        "outputId": "2cffb540-4baf-47dc-9802-7f9f2076cc2f"
      },
      "execution_count": 17,
      "outputs": [
        {
          "output_type": "execute_result",
          "data": {
            "text/plain": [
              "[['2024-01-28 16:15:19',\n",
              "  'John F. Kennedy International Airport',\n",
              "  'JFK',\n",
              "  'Miami International Airport',\n",
              "  'MIA',\n",
              "  '2024-01-28 18:12:19',\n",
              "  'American Airlines',\n",
              "  '1759Km',\n",
              "  'Bombardier CRJ-900',\n",
              "  '90',\n",
              "  '80'],\n",
              " ['2024-01-01 22:25:52',\n",
              "  'John F. Kennedy International Airport',\n",
              "  'JFK',\n",
              "  'Amsterdam Airport Schiphol',\n",
              "  'AMS',\n",
              "  '2024-01-02 04:55:52',\n",
              "  'American Airlines',\n",
              "  '5854Km',\n",
              "  'Embraer ERJ170',\n",
              "  '76',\n",
              "  '76'],\n",
              " ['2024-04-05 02:08:19',\n",
              "  'Dubai International Airport',\n",
              "  'DXB',\n",
              "  'Kuala Lumpur International Airport',\n",
              "  'KUL',\n",
              "  '2024-04-05 08:18:19',\n",
              "  'American Airlines',\n",
              "  '5555Km',\n",
              "  'AVRO RJ100',\n",
              "  '112',\n",
              "  '108']]"
            ]
          },
          "metadata": {},
          "execution_count": 17
        }
      ]
    },
    {
      "cell_type": "markdown",
      "source": [
        "#### Filtering an RDD: Selecting Flights from \"Seoul Incheon International Airport\" for \"American Airlines\"\n"
      ],
      "metadata": {
        "id": "27PRF3QP9cau"
      }
    },
    {
      "cell_type": "code",
      "source": [
        "American_Airlines_2=American_Airlines_1.filter(lambda x:x[1]=='Seoul Incheon International Airport')"
      ],
      "metadata": {
        "id": "zjo_S9RfSS0f"
      },
      "execution_count": 18,
      "outputs": []
    },
    {
      "cell_type": "code",
      "source": [
        "American_Airlines_2.take(3)"
      ],
      "metadata": {
        "colab": {
          "base_uri": "https://localhost:8080/"
        },
        "id": "NTAp2VpySpFN",
        "outputId": "4bc69cf1-fa7b-4dc2-ec27-ab1250de819b"
      },
      "execution_count": 19,
      "outputs": [
        {
          "output_type": "execute_result",
          "data": {
            "text/plain": [
              "[['2024-04-15 11:34:02',\n",
              "  'Seoul Incheon International Airport',\n",
              "  'ICN',\n",
              "  'Denver International Airport',\n",
              "  'DEN',\n",
              "  '2024-04-15 22:38:02',\n",
              "  'American Airlines',\n",
              "  '9970Km',\n",
              "  'Bombardier CRJ-900',\n",
              "  '90',\n",
              "  '84'],\n",
              " ['2024-03-13 17:15:06',\n",
              "  'Seoul Incheon International Airport',\n",
              "  'ICN',\n",
              "  'McCarran International Airport',\n",
              "  'LAS',\n",
              "  '2024-03-14 04:00:06',\n",
              "  'American Airlines',\n",
              "  '9679Km',\n",
              "  'AVRO RJ100',\n",
              "  '112',\n",
              "  '105'],\n",
              " ['2024-01-27 06:54:39',\n",
              "  'Seoul Incheon International Airport',\n",
              "  'ICN',\n",
              "  'Kuala Lumpur International Airport',\n",
              "  'KUL',\n",
              "  '2024-01-27 12:01:39',\n",
              "  'American Airlines',\n",
              "  '4617Km',\n",
              "  'Airbus A319',\n",
              "  '150',\n",
              "  '146']]"
            ]
          },
          "metadata": {},
          "execution_count": 19
        }
      ]
    },
    {
      "cell_type": "markdown",
      "source": [
        "#### Saving the Filtered RDD to a Text File in Google Drive"
      ],
      "metadata": {
        "id": "kilwHOeu94Zl"
      }
    },
    {
      "cell_type": "code",
      "source": [
        "American_Airlines_2.saveAsTextFile(\"/content/drive/My Drive/All American Airlines flights that depart from Seoul Incheon International Airport.txt\") #save on my google drive"
      ],
      "metadata": {
        "id": "EP-OjDJvTH3N"
      },
      "execution_count": 20,
      "outputs": []
    },
    {
      "cell_type": "markdown",
      "source": [
        "### Find the number of overnight flights per month in 2024. The term \"overnight flights\" refers to flights that depart between 20:00 and 23:00 and arrive the next day after 03:00. Store the results in a file."
      ],
      "metadata": {
        "id": "JiTmRAyrTq7_"
      }
    },
    {
      "cell_type": "markdown",
      "source": [
        "#### Filtering an RDD: Selecting Flights from the Year 2024\n"
      ],
      "metadata": {
        "id": "zukrhkke-LGP"
      }
    },
    {
      "cell_type": "code",
      "source": [
        "overnight_flights_1=rdd_1.filter(lambda x:datetime.strptime(x[5], '%Y-%m-%d %H:%M:%S').year == 2024)"
      ],
      "metadata": {
        "id": "BEdfvuZkUGzJ"
      },
      "execution_count": 21,
      "outputs": []
    },
    {
      "cell_type": "code",
      "source": [
        "overnight_flights_1.take(3)"
      ],
      "metadata": {
        "colab": {
          "base_uri": "https://localhost:8080/"
        },
        "id": "rgCDhY-GV8Gi",
        "outputId": "b6e2e0d1-375b-40d6-9567-9a3f19fdc26d"
      },
      "execution_count": 22,
      "outputs": [
        {
          "output_type": "execute_result",
          "data": {
            "text/plain": [
              "[['2024-05-07 12:16:35',\n",
              "  \"O'Hare International Airport\",\n",
              "  'ORD',\n",
              "  'Suvarnabhumi Airport',\n",
              "  'BKK',\n",
              "  '2024-05-08 03:34:35',\n",
              "  'Air France',\n",
              "  '13778Km',\n",
              "  'Airbus A319',\n",
              "  '150',\n",
              "  '140'],\n",
              " ['2024-04-15 07:24:08',\n",
              "  'Suvarnabhumi Airport',\n",
              "  'BKK',\n",
              "  'Sydney Kingsford-Smith Airport',\n",
              "  'SYD',\n",
              "  '2024-04-15 15:45:08',\n",
              "  'Emirates',\n",
              "  '7522Km',\n",
              "  'Boeing 737-700',\n",
              "  '148',\n",
              "  '146'],\n",
              " ['2024-02-16 02:47:10',\n",
              "  'Shanghai Pudong International Airport',\n",
              "  'PVG',\n",
              "  'San Francisco International Airport',\n",
              "  'SFO',\n",
              "  '2024-02-16 13:46:10',\n",
              "  'Delta Air Lines',\n",
              "  '9888Km',\n",
              "  'Embraer ERJ170',\n",
              "  '76',\n",
              "  '67']]"
            ]
          },
          "metadata": {},
          "execution_count": 22
        }
      ]
    },
    {
      "cell_type": "markdown",
      "source": [
        "#### Filtering an RDD: Selecting Flights Departing Between 8 PM and Midnight (from 20 to 23)\n"
      ],
      "metadata": {
        "id": "coPChfxO-Y0g"
      }
    },
    {
      "cell_type": "code",
      "source": [
        "overnight_flights_2=overnight_flights_1.filter(lambda x:20 <= datetime.strptime(x[0], '%Y-%m-%d %H:%M:%S').hour <= 23)"
      ],
      "metadata": {
        "id": "tFKHOf3uVX7B"
      },
      "execution_count": 23,
      "outputs": []
    },
    {
      "cell_type": "code",
      "source": [
        "overnight_flights_2.take(3)"
      ],
      "metadata": {
        "colab": {
          "base_uri": "https://localhost:8080/"
        },
        "id": "hV3ZkJZuWBFm",
        "outputId": "6c351df2-3d5f-43d8-bbba-e9c131a382cc"
      },
      "execution_count": 24,
      "outputs": [
        {
          "output_type": "execute_result",
          "data": {
            "text/plain": [
              "[['2024-01-01 22:25:52',\n",
              "  'John F. Kennedy International Airport',\n",
              "  'JFK',\n",
              "  'Amsterdam Airport Schiphol',\n",
              "  'AMS',\n",
              "  '2024-01-02 04:55:52',\n",
              "  'American Airlines',\n",
              "  '5854Km',\n",
              "  'Embraer ERJ170',\n",
              "  '76',\n",
              "  '76'],\n",
              " ['2024-01-18 21:15:52',\n",
              "  'Charles de Gaulle Airport',\n",
              "  'CDG',\n",
              "  'Miami International Airport',\n",
              "  'MIA',\n",
              "  '2024-01-19 05:26:52',\n",
              "  'Emirates',\n",
              "  '7379Km',\n",
              "  'Embraer ERJ195',\n",
              "  '118',\n",
              "  '115'],\n",
              " ['2024-04-26 21:14:36',\n",
              "  'Charlotte Douglas International Airport',\n",
              "  'CLT',\n",
              "  'Dallas-Fort Worth International Airport',\n",
              "  'DFW',\n",
              "  '2024-04-26 22:54:36',\n",
              "  'China Southern Airlines',\n",
              "  '1504Km',\n",
              "  'Airbus A321',\n",
              "  '210',\n",
              "  '203']]"
            ]
          },
          "metadata": {},
          "execution_count": 24
        }
      ]
    },
    {
      "cell_type": "markdown",
      "source": [
        "#### Filtering an RDD: Selecting Flights After 3 AM on the Next Day\n"
      ],
      "metadata": {
        "id": "88hJrjVR-4qY"
      }
    },
    {
      "cell_type": "code",
      "source": [
        "overnight_flights_3=overnight_flights_2.filter(lambda x:3 <datetime.strptime(x[5], '%Y-%m-%d %H:%M:%S').hour and datetime.strptime(x[5], '%Y-%m-%d %H:%M:%S').day+1)"
      ],
      "metadata": {
        "id": "WFZTQEsFWyOs"
      },
      "execution_count": 25,
      "outputs": []
    },
    {
      "cell_type": "code",
      "source": [
        "overnight_flights_3.take(3)"
      ],
      "metadata": {
        "colab": {
          "base_uri": "https://localhost:8080/"
        },
        "id": "cNCHZE8WXHle",
        "outputId": "d7cc6319-4b78-40fb-8661-3934cc8388ff"
      },
      "execution_count": 26,
      "outputs": [
        {
          "output_type": "execute_result",
          "data": {
            "text/plain": [
              "[['2024-01-01 22:25:52',\n",
              "  'John F. Kennedy International Airport',\n",
              "  'JFK',\n",
              "  'Amsterdam Airport Schiphol',\n",
              "  'AMS',\n",
              "  '2024-01-02 04:55:52',\n",
              "  'American Airlines',\n",
              "  '5854Km',\n",
              "  'Embraer ERJ170',\n",
              "  '76',\n",
              "  '76'],\n",
              " ['2024-01-18 21:15:52',\n",
              "  'Charles de Gaulle Airport',\n",
              "  'CDG',\n",
              "  'Miami International Airport',\n",
              "  'MIA',\n",
              "  '2024-01-19 05:26:52',\n",
              "  'Emirates',\n",
              "  '7379Km',\n",
              "  'Embraer ERJ195',\n",
              "  '118',\n",
              "  '115'],\n",
              " ['2024-04-26 21:14:36',\n",
              "  'Charlotte Douglas International Airport',\n",
              "  'CLT',\n",
              "  'Dallas-Fort Worth International Airport',\n",
              "  'DFW',\n",
              "  '2024-04-26 22:54:36',\n",
              "  'China Southern Airlines',\n",
              "  '1504Km',\n",
              "  'Airbus A321',\n",
              "  '210',\n",
              "  '203']]"
            ]
          },
          "metadata": {},
          "execution_count": 26
        }
      ]
    },
    {
      "cell_type": "markdown",
      "source": [
        "#### Mapping an RDD: Assigning a Constant Value for Flights in 2024\n"
      ],
      "metadata": {
        "id": "5i1A3a3L_K2d"
      }
    },
    {
      "cell_type": "code",
      "source": [
        "overnight_flights_4=overnight_flights_3.map(lambda x:('2024',1))"
      ],
      "metadata": {
        "id": "xVCJg_IBWDEk"
      },
      "execution_count": 27,
      "outputs": []
    },
    {
      "cell_type": "code",
      "source": [
        "overnight_flights_4.take(3)"
      ],
      "metadata": {
        "colab": {
          "base_uri": "https://localhost:8080/"
        },
        "id": "7Id90yvJd1_0",
        "outputId": "cf5325db-ed9c-4ad3-c045-c8957ef01163"
      },
      "execution_count": 28,
      "outputs": [
        {
          "output_type": "execute_result",
          "data": {
            "text/plain": [
              "[('2024', 1), ('2024', 1), ('2024', 1)]"
            ]
          },
          "metadata": {},
          "execution_count": 28
        }
      ]
    },
    {
      "cell_type": "markdown",
      "source": [
        "#### Reducing an RDD: Counting Flights for 2024\n"
      ],
      "metadata": {
        "id": "TpojHYp2_Tp4"
      }
    },
    {
      "cell_type": "code",
      "source": [
        "overnight_flights_4.reduceByKey(lambda x,y:x+y).collect()"
      ],
      "metadata": {
        "colab": {
          "base_uri": "https://localhost:8080/"
        },
        "id": "aWS_N6wJZw3x",
        "outputId": "c6bdc49b-a9ee-4ff7-fda6-f5b742776c4d"
      },
      "execution_count": 29,
      "outputs": [
        {
          "output_type": "execute_result",
          "data": {
            "text/plain": [
              "[('2024', 138129)]"
            ]
          },
          "metadata": {},
          "execution_count": 29
        }
      ]
    },
    {
      "cell_type": "markdown",
      "source": [
        "#### Saving the RDD to a Text File: Exporting Results to Google Drive\n"
      ],
      "metadata": {
        "id": "D1h0PRQT_bMJ"
      }
    },
    {
      "cell_type": "code",
      "source": [
        "American_Airlines_2.saveAsTextFile(\"/content/drive/My Drive/overnight flights per month in 2024.txt\")"
      ],
      "metadata": {
        "id": "5_-ylc5zZRrD"
      },
      "execution_count": 30,
      "outputs": []
    },
    {
      "cell_type": "markdown",
      "source": [
        "#### The occupancy rate for a flight refers to the percentage of available seats on an aircraft that are filled with passengers. For example, if a plane has 200 seats and there are 180 passengers on board, the occupancy rate would be:\n",
        "(180 passengers / 200 seats) * 100 = 90% occupancy rateTask 5: Find the occupancy rate for each flight departing from “John F. Kennedy International Airport” between 09:00 and 15:00. Store the results in a file."
      ],
      "metadata": {
        "id": "SgXrjRPueXwx"
      }
    },
    {
      "cell_type": "markdown",
      "source": [
        "#### Filtering RDD: Flights Departing from John F. Kennedy Airport Between 9 AM and 3 PM\n"
      ],
      "metadata": {
        "id": "TFbjK9kd_oiC"
      }
    },
    {
      "cell_type": "code",
      "source": [
        "occupancy_rate_1=rdd_1.filter(lambda x:x[1]=='John F. Kennedy International Airport').filter(lambda x:9 <= datetime.strptime(x[0], '%Y-%m-%d %H:%M:%S').hour <= 15)"
      ],
      "metadata": {
        "id": "xJwKwMlUe7AX"
      },
      "execution_count": 31,
      "outputs": []
    },
    {
      "cell_type": "code",
      "source": [
        "occupancy_rate_1.take(2)"
      ],
      "metadata": {
        "colab": {
          "base_uri": "https://localhost:8080/"
        },
        "id": "vBmqNNZRjKE2",
        "outputId": "ba7c6850-4ebd-4578-8661-87c1e4c2a274"
      },
      "execution_count": 32,
      "outputs": [
        {
          "output_type": "execute_result",
          "data": {
            "text/plain": [
              "[['2024-01-15 09:40:56',\n",
              "  'John F. Kennedy International Airport',\n",
              "  'JFK',\n",
              "  \"O'Hare International Airport\",\n",
              "  'ORD',\n",
              "  '2024-01-15 10:59:56',\n",
              "  'Emirates',\n",
              "  '1189Km',\n",
              "  'Bombardier CRJ-900',\n",
              "  '90',\n",
              "  '86'],\n",
              " ['2024-04-01 14:33:23',\n",
              "  'John F. Kennedy International Airport',\n",
              "  'JFK',\n",
              "  'Miami International Airport',\n",
              "  'MIA',\n",
              "  '2024-04-01 16:30:23',\n",
              "  'Air Canada',\n",
              "  '1759Km',\n",
              "  'Embraer ERJ195',\n",
              "  '118',\n",
              "  '112']]"
            ]
          },
          "metadata": {},
          "execution_count": 32
        }
      ]
    },
    {
      "cell_type": "markdown",
      "source": [
        "#### Mapping an RDD: Calculating Occupancy Rate for Flights\n"
      ],
      "metadata": {
        "id": "I-GkB5qXAP4a"
      }
    },
    {
      "cell_type": "code",
      "source": [
        "occupancy_rate_2=occupancy_rate_1.map(lambda x:(x[1],(int(x[10]) / int(x[9])) * 100 ))"
      ],
      "metadata": {
        "id": "fWS_793IftpT"
      },
      "execution_count": 33,
      "outputs": []
    },
    {
      "cell_type": "code",
      "source": [
        "occupancy_rate_2.take(5)"
      ],
      "metadata": {
        "colab": {
          "base_uri": "https://localhost:8080/"
        },
        "id": "nTAwAu2Xge3h",
        "outputId": "902e649e-d1de-4012-ccf7-7953332e8d57"
      },
      "execution_count": 34,
      "outputs": [
        {
          "output_type": "execute_result",
          "data": {
            "text/plain": [
              "[('John F. Kennedy International Airport', 95.55555555555556),\n",
              " ('John F. Kennedy International Airport', 94.91525423728814),\n",
              " ('John F. Kennedy International Airport', 98.33333333333333),\n",
              " ('John F. Kennedy International Airport', 99.33333333333333),\n",
              " ('John F. Kennedy International Airport', 94.91525423728814)]"
            ]
          },
          "metadata": {},
          "execution_count": 34
        }
      ]
    },
    {
      "cell_type": "markdown",
      "source": [
        "#### Rounding Occupancy Rate Values: Mapping with mapValues()"
      ],
      "metadata": {
        "id": "GtxkGByVAfiN"
      }
    },
    {
      "cell_type": "code",
      "source": [
        "occupancy_rate_3=occupancy_rate_2.mapValues(lambda x:round(x,2))"
      ],
      "metadata": {
        "id": "VyoKEsidq0s1"
      },
      "execution_count": 35,
      "outputs": []
    },
    {
      "cell_type": "code",
      "source": [
        "occupancy_rate_3.take(3)"
      ],
      "metadata": {
        "id": "FC5AxTK4q8hV",
        "outputId": "61ab4f3f-fa48-4e84-8f14-a1e1d9517b19",
        "colab": {
          "base_uri": "https://localhost:8080/"
        }
      },
      "execution_count": 36,
      "outputs": [
        {
          "output_type": "execute_result",
          "data": {
            "text/plain": [
              "[('John F. Kennedy International Airport', 95.56),\n",
              " ('John F. Kennedy International Airport', 94.92),\n",
              " ('John F. Kennedy International Airport', 98.33)]"
            ]
          },
          "metadata": {},
          "execution_count": 36
        }
      ]
    },
    {
      "cell_type": "markdown",
      "source": [
        "#### Saving the Occupancy Rate RDD to a Text File\n"
      ],
      "metadata": {
        "id": "ORYUqQkdAqUf"
      }
    },
    {
      "cell_type": "code",
      "source": [
        "occupancy_rate_3.saveAsTextFile(\"/content/drive/My Drive/occupancy rate.txt\")"
      ],
      "metadata": {
        "id": "Y8kTnr-rggqd"
      },
      "execution_count": 37,
      "outputs": []
    },
    {
      "cell_type": "markdown",
      "source": [
        "##### End This Task"
      ],
      "metadata": {
        "id": "RKgJa5cLdkiY"
      }
    },
    {
      "cell_type": "markdown",
      "source": [
        "## Task 2 (Calculate Total Price)"
      ],
      "metadata": {
        "id": "WibU8HpFgQJt"
      }
    },
    {
      "cell_type": "markdown",
      "source": [
        "#### Loading Data into an RDD from a Text File"
      ],
      "metadata": {
        "id": "3SmpUCtIgt-u"
      }
    },
    {
      "cell_type": "markdown",
      "source": [
        "**Order_items Columns**"
      ],
      "metadata": {
        "id": "4N6mdtRgoeZ1"
      }
    },
    {
      "cell_type": "markdown",
      "source": [
        "1. **ID**\n",
        "2. **Product Code**\n",
        "3. **Quantity**\n",
        "4. **Price**\n"
      ],
      "metadata": {
        "id": "GGo5Ip04oblG"
      }
    },
    {
      "cell_type": "code",
      "source": [
        "Rdd_data=sc.textFile('/content/drive/My Drive/Colab Notebooks/Spark/Order_items.txt')"
      ],
      "metadata": {
        "id": "Kr-dKZemdrCO"
      },
      "execution_count": 38,
      "outputs": []
    },
    {
      "cell_type": "code",
      "source": [
        "Rdd_data.count()"
      ],
      "metadata": {
        "colab": {
          "base_uri": "https://localhost:8080/"
        },
        "id": "NYaPGEtPfPr-",
        "outputId": "5c23f098-a6b4-442a-8067-1ffc8504ce70"
      },
      "execution_count": 39,
      "outputs": [
        {
          "output_type": "execute_result",
          "data": {
            "text/plain": [
              "172198"
            ]
          },
          "metadata": {},
          "execution_count": 39
        }
      ]
    },
    {
      "cell_type": "code",
      "source": [
        "Rdd_data.take(3)"
      ],
      "metadata": {
        "colab": {
          "base_uri": "https://localhost:8080/"
        },
        "id": "PU08ZGBvdvi7",
        "outputId": "824b3860-8143-46e9-9bb8-f5c73f24361e"
      },
      "execution_count": 40,
      "outputs": [
        {
          "output_type": "execute_result",
          "data": {
            "text/plain": [
              "['1, 957, 1, 299.98', '2, 1073, 1, 199.99', '2, 502, 5, 50.0']"
            ]
          },
          "metadata": {},
          "execution_count": 40
        }
      ]
    },
    {
      "cell_type": "markdown",
      "source": [
        "#### Transforming the RDD with the map function"
      ],
      "metadata": {
        "id": "KGRXg7phg81B"
      }
    },
    {
      "cell_type": "code",
      "source": [
        "Rdd_1=Rdd_data.map(lambda x:x.split(','))"
      ],
      "metadata": {
        "id": "0J4Cihp4dvlS"
      },
      "execution_count": 41,
      "outputs": []
    },
    {
      "cell_type": "code",
      "source": [
        "Rdd_1.take(3)"
      ],
      "metadata": {
        "colab": {
          "base_uri": "https://localhost:8080/"
        },
        "id": "CUcr-Qhhdvnm",
        "outputId": "fe7b35d9-7d75-4121-8d94-54d79f3d5c42"
      },
      "execution_count": 42,
      "outputs": [
        {
          "output_type": "execute_result",
          "data": {
            "text/plain": [
              "[['1', ' 957', ' 1', ' 299.98'],\n",
              " ['2', ' 1073', ' 1', ' 199.99'],\n",
              " ['2', ' 502', ' 5', ' 50.0']]"
            ]
          },
          "metadata": {},
          "execution_count": 42
        }
      ]
    },
    {
      "cell_type": "markdown",
      "source": [
        "#### Transforming Data to Calculate Total Price\n"
      ],
      "metadata": {
        "id": "B_PMkLDphWWc"
      }
    },
    {
      "cell_type": "code",
      "source": [
        "Rdd_2=Rdd_1.map(lambda x: (x[0], float(x[2])*float(x[3])))"
      ],
      "metadata": {
        "id": "jXIM-ldydvpv"
      },
      "execution_count": 43,
      "outputs": []
    },
    {
      "cell_type": "code",
      "source": [
        "Rdd_2.take(10)"
      ],
      "metadata": {
        "colab": {
          "base_uri": "https://localhost:8080/"
        },
        "id": "RG_hrNzXdvrx",
        "outputId": "e2fa1819-9147-4fa7-a320-7e2240a5eb56"
      },
      "execution_count": 44,
      "outputs": [
        {
          "output_type": "execute_result",
          "data": {
            "text/plain": [
              "[('1', 299.98),\n",
              " ('2', 199.99),\n",
              " ('2', 250.0),\n",
              " ('2', 129.99),\n",
              " ('4', 49.98),\n",
              " ('4', 299.95),\n",
              " ('4', 150.0),\n",
              " ('4', 199.92),\n",
              " ('5', 299.98),\n",
              " ('5', 299.95)]"
            ]
          },
          "metadata": {},
          "execution_count": 44
        }
      ]
    },
    {
      "cell_type": "markdown",
      "source": [
        "#### Aggregated Data by ID"
      ],
      "metadata": {
        "id": "Pedh0TGmh0Vm"
      }
    },
    {
      "cell_type": "code",
      "source": [
        "Rdd_3=Rdd_2.reduceByKey(lambda x,y: x+y)"
      ],
      "metadata": {
        "id": "U5-W_PLGdvvC"
      },
      "execution_count": 45,
      "outputs": []
    },
    {
      "cell_type": "code",
      "source": [
        "Rdd_3.take(10)"
      ],
      "metadata": {
        "colab": {
          "base_uri": "https://localhost:8080/"
        },
        "id": "y1IKqjg9d6Fw",
        "outputId": "a180489a-f8ee-4598-dbf5-141be99ad659"
      },
      "execution_count": 46,
      "outputs": [
        {
          "output_type": "execute_result",
          "data": {
            "text/plain": [
              "[('1', 299.98),\n",
              " ('2', 579.98),\n",
              " ('4', 699.85),\n",
              " ('5', 1129.8600000000001),\n",
              " ('7', 579.9200000000001),\n",
              " ('8', 729.8399999999999),\n",
              " ('9', 599.96),\n",
              " ('10', 651.9200000000001),\n",
              " ('11', 919.79),\n",
              " ('12', 1299.8700000000001)]"
            ]
          },
          "metadata": {},
          "execution_count": 46
        }
      ]
    },
    {
      "cell_type": "markdown",
      "source": [
        "#### Rounding Aggregated Values to Two Decimal Places\n"
      ],
      "metadata": {
        "id": "cufUE8eziXNk"
      }
    },
    {
      "cell_type": "code",
      "source": [
        "Rdd_4=Rdd_3.mapValues(lambda x:round(x,2))"
      ],
      "metadata": {
        "id": "Mzsbazjqd6CV"
      },
      "execution_count": 47,
      "outputs": []
    },
    {
      "cell_type": "code",
      "source": [
        "Rdd_4.take(10)"
      ],
      "metadata": {
        "colab": {
          "base_uri": "https://localhost:8080/"
        },
        "id": "JQwEYYSnd5-T",
        "outputId": "435edeb5-db82-44d8-d603-6817af99917b"
      },
      "execution_count": 48,
      "outputs": [
        {
          "output_type": "execute_result",
          "data": {
            "text/plain": [
              "[('1', 299.98),\n",
              " ('2', 579.98),\n",
              " ('4', 699.85),\n",
              " ('5', 1129.86),\n",
              " ('7', 579.92),\n",
              " ('8', 729.84),\n",
              " ('9', 599.96),\n",
              " ('10', 651.92),\n",
              " ('11', 919.79),\n",
              " ('12', 1299.87)]"
            ]
          },
          "metadata": {},
          "execution_count": 48
        }
      ]
    },
    {
      "cell_type": "markdown",
      "source": [
        "##### End This Task"
      ],
      "metadata": {
        "id": "C8AL0FHpighk"
      }
    },
    {
      "cell_type": "markdown",
      "source": [
        "## Task 3 (Join)"
      ],
      "metadata": {
        "id": "Pha2g9Kuilbm"
      }
    },
    {
      "cell_type": "markdown",
      "source": [
        "#### Reading Data from a Text File\n"
      ],
      "metadata": {
        "id": "85Hf8_DKjNKQ"
      }
    },
    {
      "cell_type": "markdown",
      "source": [
        "**Students Columns**"
      ],
      "metadata": {
        "id": "QjX7Ee36o9o-"
      }
    },
    {
      "cell_type": "markdown",
      "source": [
        "1. **ID**\n",
        "2. **First Name**\n",
        "3. **Last Name**\n",
        "4. **Group ID**\n"
      ],
      "metadata": {
        "id": "kHa4LCOno8MJ"
      }
    },
    {
      "cell_type": "code",
      "source": [
        "students=sc.textFile('/content/drive/My Drive/Colab Notebooks/Spark/students.txt')"
      ],
      "metadata": {
        "id": "k0on7If9d58G"
      },
      "execution_count": 49,
      "outputs": []
    },
    {
      "cell_type": "code",
      "source": [
        "students.count()"
      ],
      "metadata": {
        "colab": {
          "base_uri": "https://localhost:8080/"
        },
        "id": "WFAqNJzYfkhq",
        "outputId": "b0d4f26a-d305-4f47-bf70-753d12e25085"
      },
      "execution_count": 50,
      "outputs": [
        {
          "output_type": "execute_result",
          "data": {
            "text/plain": [
              "10"
            ]
          },
          "metadata": {},
          "execution_count": 50
        }
      ]
    },
    {
      "cell_type": "code",
      "source": [
        "students.take(10)"
      ],
      "metadata": {
        "colab": {
          "base_uri": "https://localhost:8080/"
        },
        "id": "ScCOEMJUd_XV",
        "outputId": "4935082c-a627-4f84-b14d-8a65aa649668"
      },
      "execution_count": 51,
      "outputs": [
        {
          "output_type": "execute_result",
          "data": {
            "text/plain": [
              "['6000,Muath,Omer,01',\n",
              " '6001,Jehad,Shadi,01',\n",
              " '6002,Salma,Ahmad,01',\n",
              " '6003,Sara,Ali,01',\n",
              " '6004,Suha,Jamil,01',\n",
              " '6005,Omer,Amer,01',\n",
              " '7000,Jamil,Khalid,02',\n",
              " '7001,Ali,Salem,02',\n",
              " '7002,Ahmad,Ali,02',\n",
              " '7003,Rasha,Shadi,02']"
            ]
          },
          "metadata": {},
          "execution_count": 51
        }
      ]
    },
    {
      "cell_type": "markdown",
      "source": [
        "**Majors Columns**"
      ],
      "metadata": {
        "id": "lM-mbqJgpP59"
      }
    },
    {
      "cell_type": "markdown",
      "source": [
        "1. **Group ID**\n",
        "2. **Department**\n"
      ],
      "metadata": {
        "id": "OyGVMMVypPNI"
      }
    },
    {
      "cell_type": "markdown",
      "source": [
        "#### Reading Data from a Text File\n"
      ],
      "metadata": {
        "id": "rXaRUBAfjZRu"
      }
    },
    {
      "cell_type": "code",
      "source": [
        "majors=sc.textFile('/content/drive/My Drive/Colab Notebooks/Spark/majors.txt')"
      ],
      "metadata": {
        "id": "4OJLgmv2d_Zl"
      },
      "execution_count": 52,
      "outputs": []
    },
    {
      "cell_type": "code",
      "source": [
        "majors.count()"
      ],
      "metadata": {
        "colab": {
          "base_uri": "https://localhost:8080/"
        },
        "id": "H1Q93EJOjcBJ",
        "outputId": "0c6b95e4-3626-4cb8-b426-17114e24b720"
      },
      "execution_count": 53,
      "outputs": [
        {
          "output_type": "execute_result",
          "data": {
            "text/plain": [
              "3"
            ]
          },
          "metadata": {},
          "execution_count": 53
        }
      ]
    },
    {
      "cell_type": "code",
      "source": [
        "majors.take(3)"
      ],
      "metadata": {
        "colab": {
          "base_uri": "https://localhost:8080/"
        },
        "id": "85c2c4YYd_bg",
        "outputId": "6c40c838-6175-4795-cbdc-418c82eca7b9"
      },
      "execution_count": 54,
      "outputs": [
        {
          "output_type": "execute_result",
          "data": {
            "text/plain": [
              "['01,Computer Science', '02,Data Science', '03,CIS']"
            ]
          },
          "metadata": {},
          "execution_count": 54
        }
      ]
    },
    {
      "cell_type": "markdown",
      "source": [
        "#### Splitting Data in Each Line and Store in List\n"
      ],
      "metadata": {
        "id": "unLSd9u6jkWE"
      }
    },
    {
      "cell_type": "code",
      "source": [
        "SRdd=students.map(lambda x:x.split(\",\"))"
      ],
      "metadata": {
        "id": "JEDSYUSVd_dS"
      },
      "execution_count": 55,
      "outputs": []
    },
    {
      "cell_type": "code",
      "source": [
        "SRdd.take(10)"
      ],
      "metadata": {
        "colab": {
          "base_uri": "https://localhost:8080/"
        },
        "id": "_zrplccPd_gy",
        "outputId": "282356e7-51a6-4b9d-b6fe-bf2b76f58a1f"
      },
      "execution_count": 56,
      "outputs": [
        {
          "output_type": "execute_result",
          "data": {
            "text/plain": [
              "[['6000', 'Muath', 'Omer', '01'],\n",
              " ['6001', 'Jehad', 'Shadi', '01'],\n",
              " ['6002', 'Salma', 'Ahmad', '01'],\n",
              " ['6003', 'Sara', 'Ali', '01'],\n",
              " ['6004', 'Suha', 'Jamil', '01'],\n",
              " ['6005', 'Omer', 'Amer', '01'],\n",
              " ['7000', 'Jamil', 'Khalid', '02'],\n",
              " ['7001', 'Ali', 'Salem', '02'],\n",
              " ['7002', 'Ahmad', 'Ali', '02'],\n",
              " ['7003', 'Rasha', 'Shadi', '02']]"
            ]
          },
          "metadata": {},
          "execution_count": 56
        }
      ]
    },
    {
      "cell_type": "markdown",
      "source": [
        "#### Mapping Data to Key-Value Pairs ( Student )"
      ],
      "metadata": {
        "id": "3ytgSTgbj5M1"
      }
    },
    {
      "cell_type": "code",
      "source": [
        "Srdd2=SRdd.map(lambda x:(x[3] , x[1]+' '+x[2]))"
      ],
      "metadata": {
        "id": "q0xL6lc3d5uk"
      },
      "execution_count": 57,
      "outputs": []
    },
    {
      "cell_type": "code",
      "source": [
        "Srdd2.take(10)"
      ],
      "metadata": {
        "colab": {
          "base_uri": "https://localhost:8080/"
        },
        "id": "rldCH7UHeIvL",
        "outputId": "d618c42c-1dfd-4e6e-8d8d-4b52cb4580d5"
      },
      "execution_count": 58,
      "outputs": [
        {
          "output_type": "execute_result",
          "data": {
            "text/plain": [
              "[('01', 'Muath Omer'),\n",
              " ('01', 'Jehad Shadi'),\n",
              " ('01', 'Salma Ahmad'),\n",
              " ('01', 'Sara Ali'),\n",
              " ('01', 'Suha Jamil'),\n",
              " ('01', 'Omer Amer'),\n",
              " ('02', 'Jamil Khalid'),\n",
              " ('02', 'Ali Salem'),\n",
              " ('02', 'Ahmad Ali'),\n",
              " ('02', 'Rasha Shadi')]"
            ]
          },
          "metadata": {},
          "execution_count": 58
        }
      ]
    },
    {
      "cell_type": "markdown",
      "source": [
        "#### Mapping Data to Key-Value Pairs ( Majors )"
      ],
      "metadata": {
        "id": "MFqzVhOWkXbJ"
      }
    },
    {
      "cell_type": "code",
      "source": [
        "Mrdd=majors.map(lambda x: (x.split(\",\")[0],x.split(\",\")[1]))"
      ],
      "metadata": {
        "id": "EtU5NjoIeIxj"
      },
      "execution_count": 59,
      "outputs": []
    },
    {
      "cell_type": "code",
      "source": [
        "majors.take(2)"
      ],
      "metadata": {
        "colab": {
          "base_uri": "https://localhost:8080/"
        },
        "id": "8HWvE3KxeIzj",
        "outputId": "ba865861-e7f4-4982-8f42-43fbdb57ff09"
      },
      "execution_count": 60,
      "outputs": [
        {
          "output_type": "execute_result",
          "data": {
            "text/plain": [
              "['01,Computer Science', '02,Data Science']"
            ]
          },
          "metadata": {},
          "execution_count": 60
        }
      ]
    },
    {
      "cell_type": "code",
      "source": [
        "Mrdd.take(10)"
      ],
      "metadata": {
        "colab": {
          "base_uri": "https://localhost:8080/"
        },
        "id": "mRrMsogCeI1x",
        "outputId": "8cc2e26d-444b-44f5-9527-f2ae64b85de8"
      },
      "execution_count": 61,
      "outputs": [
        {
          "output_type": "execute_result",
          "data": {
            "text/plain": [
              "[('01', 'Computer Science'), ('02', 'Data Science'), ('03', 'CIS')]"
            ]
          },
          "metadata": {},
          "execution_count": 61
        }
      ]
    },
    {
      "cell_type": "markdown",
      "source": [
        "#### Joining Two RDDs Based on Keys\n"
      ],
      "metadata": {
        "id": "XF8g0HZDkn61"
      }
    },
    {
      "cell_type": "code",
      "source": [
        "RRDD=Srdd2.join(Mrdd)"
      ],
      "metadata": {
        "id": "n_1-7QCOeI5E"
      },
      "execution_count": 62,
      "outputs": []
    },
    {
      "cell_type": "code",
      "source": [
        "RRDD.take(3)"
      ],
      "metadata": {
        "colab": {
          "base_uri": "https://localhost:8080/"
        },
        "id": "Jn9_zdjKeQTy",
        "outputId": "0a20a8ea-3afc-482f-967c-d7f7693e861a"
      },
      "execution_count": 63,
      "outputs": [
        {
          "output_type": "execute_result",
          "data": {
            "text/plain": [
              "[('01', ('Muath Omer', 'Computer Science')),\n",
              " ('01', ('Jehad Shadi', 'Computer Science')),\n",
              " ('01', ('Salma Ahmad', 'Computer Science'))]"
            ]
          },
          "metadata": {},
          "execution_count": 63
        }
      ]
    },
    {
      "cell_type": "markdown",
      "source": [
        "#### Extracting Values from a Joined RDD\n"
      ],
      "metadata": {
        "id": "XGTWNhY9kvr7"
      }
    },
    {
      "cell_type": "code",
      "source": [
        "RRDD.map(lambda x:x[1]).collect()"
      ],
      "metadata": {
        "colab": {
          "base_uri": "https://localhost:8080/"
        },
        "id": "_vMoRRUpeQWW",
        "outputId": "232dfae8-7789-42d3-8183-adbd11c88902"
      },
      "execution_count": 64,
      "outputs": [
        {
          "output_type": "execute_result",
          "data": {
            "text/plain": [
              "[('Muath Omer', 'Computer Science'),\n",
              " ('Jehad Shadi', 'Computer Science'),\n",
              " ('Salma Ahmad', 'Computer Science'),\n",
              " ('Sara Ali', 'Computer Science'),\n",
              " ('Suha Jamil', 'Computer Science'),\n",
              " ('Omer Amer', 'Computer Science'),\n",
              " ('Jamil Khalid', 'Data Science'),\n",
              " ('Ali Salem', 'Data Science'),\n",
              " ('Ahmad Ali', 'Data Science'),\n",
              " ('Rasha Shadi', 'Data Science')]"
            ]
          },
          "metadata": {},
          "execution_count": 64
        }
      ]
    },
    {
      "cell_type": "markdown",
      "source": [
        "##### End this Task"
      ],
      "metadata": {
        "id": "-jBOigv2eQYl"
      }
    }
  ]
}